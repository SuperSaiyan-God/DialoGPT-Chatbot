{
 "cells": [
  {
   "cell_type": "code",
   "execution_count": 1,
   "metadata": {},
   "outputs": [
    {
     "name": "stdout",
     "output_type": "stream",
     "text": [
      "Requirement already satisfied: transformers in /home/papan/anaconda3/lib/python3.7/site-packages (2.8.0)\n",
      "Requirement already satisfied: requests in /home/papan/anaconda3/lib/python3.7/site-packages (from transformers) (2.21.0)\n",
      "Requirement already satisfied: tokenizers==0.5.2 in /home/papan/anaconda3/lib/python3.7/site-packages (from transformers) (0.5.2)\n",
      "Requirement already satisfied: numpy in /home/papan/anaconda3/lib/python3.7/site-packages (from transformers) (1.18.1)\n",
      "Requirement already satisfied: filelock in /home/papan/anaconda3/lib/python3.7/site-packages (from transformers) (3.0.10)\n",
      "Requirement already satisfied: regex!=2019.12.17 in /home/papan/anaconda3/lib/python3.7/site-packages (from transformers) (2020.4.4)\n",
      "Requirement already satisfied: sentencepiece in /home/papan/anaconda3/lib/python3.7/site-packages (from transformers) (0.1.86)\n",
      "Requirement already satisfied: sacremoses in /home/papan/anaconda3/lib/python3.7/site-packages (from transformers) (0.0.43)\n",
      "Requirement already satisfied: boto3 in /home/papan/anaconda3/lib/python3.7/site-packages (from transformers) (1.13.3)\n",
      "Requirement already satisfied: tqdm>=4.27 in /home/papan/anaconda3/lib/python3.7/site-packages (from transformers) (4.45.0)\n",
      "Requirement already satisfied: urllib3<1.25,>=1.21.1 in /home/papan/anaconda3/lib/python3.7/site-packages (from requests->transformers) (1.24.1)\n",
      "Requirement already satisfied: idna<2.9,>=2.5 in /home/papan/anaconda3/lib/python3.7/site-packages (from requests->transformers) (2.8)\n",
      "Requirement already satisfied: certifi>=2017.4.17 in /home/papan/anaconda3/lib/python3.7/site-packages (from requests->transformers) (2019.3.9)\n",
      "Requirement already satisfied: chardet<3.1.0,>=3.0.2 in /home/papan/anaconda3/lib/python3.7/site-packages (from requests->transformers) (3.0.4)\n",
      "Requirement already satisfied: joblib in /home/papan/anaconda3/lib/python3.7/site-packages (from sacremoses->transformers) (0.13.2)\n",
      "Requirement already satisfied: six in /home/papan/anaconda3/lib/python3.7/site-packages (from sacremoses->transformers) (1.14.0)\n",
      "Requirement already satisfied: click in /home/papan/anaconda3/lib/python3.7/site-packages (from sacremoses->transformers) (7.0)\n",
      "Requirement already satisfied: jmespath<1.0.0,>=0.7.1 in /home/papan/anaconda3/lib/python3.7/site-packages (from boto3->transformers) (0.9.5)\n",
      "Requirement already satisfied: botocore<1.17.0,>=1.16.3 in /home/papan/anaconda3/lib/python3.7/site-packages (from boto3->transformers) (1.16.3)\n",
      "Requirement already satisfied: s3transfer<0.4.0,>=0.3.0 in /home/papan/anaconda3/lib/python3.7/site-packages (from boto3->transformers) (0.3.3)\n",
      "Requirement already satisfied: python-dateutil<3.0.0,>=2.1 in /home/papan/anaconda3/lib/python3.7/site-packages (from botocore<1.17.0,>=1.16.3->boto3->transformers) (2.8.0)\n",
      "Requirement already satisfied: docutils<0.16,>=0.10 in /home/papan/anaconda3/lib/python3.7/site-packages (from botocore<1.17.0,>=1.16.3->boto3->transformers) (0.14)\n"
     ]
    },
    {
     "name": "stderr",
     "output_type": "stream",
     "text": [
      "I0506 18:22:53.431582 140450983851840 file_utils.py:41] PyTorch version 1.4.0+cpu available.\n",
      "I0506 18:23:22.879772 140450983851840 file_utils.py:57] TensorFlow version 2.1.0 available.\n"
     ]
    }
   ],
   "source": [
    "!pip install transformers\n",
    "from transformers import AutoModelWithLMHead, AutoTokenizer\n",
    "import torch"
   ]
  },
  {
   "cell_type": "code",
   "execution_count": 2,
   "metadata": {
    "scrolled": false
   },
   "outputs": [
    {
     "name": "stderr",
     "output_type": "stream",
     "text": [
      "I0506 18:23:32.415861 140450983851840 filelock.py:274] Lock 140449366319056 acquired on /home/papan/.cache/torch/transformers/8833f19dc2d2e7283d03d94f879e592e5512320f1a1f2c02f0365e8083441740.c20f698bdb1384093e40627d57f4734ba5817da9caee8857298ff9e78ac4f775.lock\n",
      "I0506 18:23:32.420784 140450983851840 file_utils.py:479] https://s3.amazonaws.com/models.huggingface.co/bert/microsoft/DialoGPT-medium/config.json not found in cache or force_download set to True, downloading to /home/papan/.cache/torch/transformers/tmp5f02phj0\n"
     ]
    },
    {
     "data": {
      "application/vnd.jupyter.widget-view+json": {
       "model_id": "1f77c575d6614c14a8591fcddaabfcad",
       "version_major": 2,
       "version_minor": 0
      },
      "text/plain": [
       "HBox(children=(FloatProgress(value=0.0, description='Downloading', max=555.0, style=ProgressStyle(description_…"
      ]
     },
     "metadata": {},
     "output_type": "display_data"
    },
    {
     "name": "stderr",
     "output_type": "stream",
     "text": [
      "I0506 18:23:34.319002 140450983851840 file_utils.py:489] storing https://s3.amazonaws.com/models.huggingface.co/bert/microsoft/DialoGPT-medium/config.json in cache at /home/papan/.cache/torch/transformers/8833f19dc2d2e7283d03d94f879e592e5512320f1a1f2c02f0365e8083441740.c20f698bdb1384093e40627d57f4734ba5817da9caee8857298ff9e78ac4f775\n"
     ]
    },
    {
     "name": "stdout",
     "output_type": "stream",
     "text": [
      "\n"
     ]
    },
    {
     "name": "stderr",
     "output_type": "stream",
     "text": [
      "I0506 18:23:34.600100 140450983851840 file_utils.py:492] creating metadata file for /home/papan/.cache/torch/transformers/8833f19dc2d2e7283d03d94f879e592e5512320f1a1f2c02f0365e8083441740.c20f698bdb1384093e40627d57f4734ba5817da9caee8857298ff9e78ac4f775\n",
      "I0506 18:23:34.604133 140450983851840 filelock.py:318] Lock 140449366319056 released on /home/papan/.cache/torch/transformers/8833f19dc2d2e7283d03d94f879e592e5512320f1a1f2c02f0365e8083441740.c20f698bdb1384093e40627d57f4734ba5817da9caee8857298ff9e78ac4f775.lock\n",
      "I0506 18:23:34.607725 140450983851840 configuration_utils.py:283] loading configuration file https://s3.amazonaws.com/models.huggingface.co/bert/microsoft/DialoGPT-medium/config.json from cache at /home/papan/.cache/torch/transformers/8833f19dc2d2e7283d03d94f879e592e5512320f1a1f2c02f0365e8083441740.c20f698bdb1384093e40627d57f4734ba5817da9caee8857298ff9e78ac4f775\n",
      "I0506 18:23:34.611409 140450983851840 configuration_utils.py:319] Model config GPT2Config {\n",
      "  \"_num_labels\": 2,\n",
      "  \"activation_function\": \"gelu_new\",\n",
      "  \"architectures\": [\n",
      "    \"GPT2LMHeadModel\"\n",
      "  ],\n",
      "  \"attn_pdrop\": 0.1,\n",
      "  \"bad_words_ids\": null,\n",
      "  \"bos_token_id\": 50256,\n",
      "  \"decoder_start_token_id\": null,\n",
      "  \"do_sample\": false,\n",
      "  \"early_stopping\": false,\n",
      "  \"embd_pdrop\": 0.1,\n",
      "  \"eos_token_id\": 50256,\n",
      "  \"finetuning_task\": null,\n",
      "  \"id2label\": {\n",
      "    \"0\": \"LABEL_0\",\n",
      "    \"1\": \"LABEL_1\"\n",
      "  },\n",
      "  \"initializer_range\": 0.02,\n",
      "  \"is_decoder\": false,\n",
      "  \"is_encoder_decoder\": false,\n",
      "  \"label2id\": {\n",
      "    \"LABEL_0\": 0,\n",
      "    \"LABEL_1\": 1\n",
      "  },\n",
      "  \"layer_norm_epsilon\": 1e-05,\n",
      "  \"length_penalty\": 1.0,\n",
      "  \"max_length\": 20,\n",
      "  \"min_length\": 0,\n",
      "  \"model_type\": \"gpt2\",\n",
      "  \"n_ctx\": 1024,\n",
      "  \"n_embd\": 1024,\n",
      "  \"n_head\": 16,\n",
      "  \"n_layer\": 24,\n",
      "  \"n_positions\": 1024,\n",
      "  \"no_repeat_ngram_size\": 0,\n",
      "  \"num_beams\": 1,\n",
      "  \"num_return_sequences\": 1,\n",
      "  \"output_attentions\": false,\n",
      "  \"output_hidden_states\": false,\n",
      "  \"output_past\": true,\n",
      "  \"pad_token_id\": null,\n",
      "  \"prefix\": null,\n",
      "  \"pruned_heads\": {},\n",
      "  \"repetition_penalty\": 1.0,\n",
      "  \"resid_pdrop\": 0.1,\n",
      "  \"summary_activation\": null,\n",
      "  \"summary_first_dropout\": 0.1,\n",
      "  \"summary_proj_to_labels\": true,\n",
      "  \"summary_type\": \"cls_index\",\n",
      "  \"summary_use_proj\": true,\n",
      "  \"task_specific_params\": null,\n",
      "  \"temperature\": 1.0,\n",
      "  \"top_k\": 50,\n",
      "  \"top_p\": 1.0,\n",
      "  \"torchscript\": false,\n",
      "  \"use_bfloat16\": false,\n",
      "  \"vocab_size\": 50257\n",
      "}\n",
      "\n",
      "I0506 18:23:34.613472 140450983851840 tokenization_utils.py:420] Model name 'microsoft/DialoGPT-medium' not found in model shortcut name list (gpt2, gpt2-medium, gpt2-large, gpt2-xl, distilgpt2). Assuming 'microsoft/DialoGPT-medium' is a path, a model identifier, or url to a directory containing tokenizer files.\n",
      "I0506 18:23:36.105225 140450983851840 filelock.py:274] Lock 140449366484304 acquired on /home/papan/.cache/torch/transformers/160770c7e6068191582afd6748b1f7e8395a4e6e63264fa390d534c6e25184b9.1512018be4ba4e8726e41b9145129dc30651ea4fec86aa61f4b9f40bf94eac71.lock\n",
      "I0506 18:23:36.108645 140450983851840 file_utils.py:479] https://s3.amazonaws.com/models.huggingface.co/bert/microsoft/DialoGPT-medium/vocab.json not found in cache or force_download set to True, downloading to /home/papan/.cache/torch/transformers/tmprf3v7gcq\n"
     ]
    },
    {
     "data": {
      "application/vnd.jupyter.widget-view+json": {
       "model_id": "2d51f823fe2348ceb4bfbd1e31459e88",
       "version_major": 2,
       "version_minor": 0
      },
      "text/plain": [
       "HBox(children=(FloatProgress(value=0.0, description='Downloading', max=1042301.0, style=ProgressStyle(descript…"
      ]
     },
     "metadata": {},
     "output_type": "display_data"
    },
    {
     "name": "stderr",
     "output_type": "stream",
     "text": [
      "I0506 18:23:58.109842 140450983851840 file_utils.py:489] storing https://s3.amazonaws.com/models.huggingface.co/bert/microsoft/DialoGPT-medium/vocab.json in cache at /home/papan/.cache/torch/transformers/160770c7e6068191582afd6748b1f7e8395a4e6e63264fa390d534c6e25184b9.1512018be4ba4e8726e41b9145129dc30651ea4fec86aa61f4b9f40bf94eac71\n",
      "I0506 18:23:58.112211 140450983851840 file_utils.py:492] creating metadata file for /home/papan/.cache/torch/transformers/160770c7e6068191582afd6748b1f7e8395a4e6e63264fa390d534c6e25184b9.1512018be4ba4e8726e41b9145129dc30651ea4fec86aa61f4b9f40bf94eac71\n",
      "I0506 18:23:58.114204 140450983851840 filelock.py:318] Lock 140449366484304 released on /home/papan/.cache/torch/transformers/160770c7e6068191582afd6748b1f7e8395a4e6e63264fa390d534c6e25184b9.1512018be4ba4e8726e41b9145129dc30651ea4fec86aa61f4b9f40bf94eac71.lock\n"
     ]
    },
    {
     "name": "stdout",
     "output_type": "stream",
     "text": [
      "\n"
     ]
    },
    {
     "name": "stderr",
     "output_type": "stream",
     "text": [
      "I0506 18:23:59.519165 140450983851840 filelock.py:274] Lock 140449366318888 acquired on /home/papan/.cache/torch/transformers/2768fc6cab7211630a47d239a3c467e01b5edcc650491f3777f181979ed61486.70bec105b4158ed9a1747fea67a43f5dee97855c64d62b6ec3742f4cfdb5feda.lock\n",
      "I0506 18:23:59.523534 140450983851840 file_utils.py:479] https://s3.amazonaws.com/models.huggingface.co/bert/microsoft/DialoGPT-medium/merges.txt not found in cache or force_download set to True, downloading to /home/papan/.cache/torch/transformers/tmp8g8bqdwm\n"
     ]
    },
    {
     "data": {
      "application/vnd.jupyter.widget-view+json": {
       "model_id": "38b0f014b8164d65aecc16689ee9e975",
       "version_major": 2,
       "version_minor": 0
      },
      "text/plain": [
       "HBox(children=(FloatProgress(value=0.0, description='Downloading', max=456318.0, style=ProgressStyle(descripti…"
      ]
     },
     "metadata": {},
     "output_type": "display_data"
    },
    {
     "name": "stderr",
     "output_type": "stream",
     "text": [
      "I0506 18:24:02.403080 140450983851840 file_utils.py:489] storing https://s3.amazonaws.com/models.huggingface.co/bert/microsoft/DialoGPT-medium/merges.txt in cache at /home/papan/.cache/torch/transformers/2768fc6cab7211630a47d239a3c467e01b5edcc650491f3777f181979ed61486.70bec105b4158ed9a1747fea67a43f5dee97855c64d62b6ec3742f4cfdb5feda\n",
      "I0506 18:24:02.404891 140450983851840 file_utils.py:492] creating metadata file for /home/papan/.cache/torch/transformers/2768fc6cab7211630a47d239a3c467e01b5edcc650491f3777f181979ed61486.70bec105b4158ed9a1747fea67a43f5dee97855c64d62b6ec3742f4cfdb5feda\n",
      "I0506 18:24:02.407816 140450983851840 filelock.py:318] Lock 140449366318888 released on /home/papan/.cache/torch/transformers/2768fc6cab7211630a47d239a3c467e01b5edcc650491f3777f181979ed61486.70bec105b4158ed9a1747fea67a43f5dee97855c64d62b6ec3742f4cfdb5feda.lock\n"
     ]
    },
    {
     "name": "stdout",
     "output_type": "stream",
     "text": [
      "\n"
     ]
    },
    {
     "name": "stderr",
     "output_type": "stream",
     "text": [
      "I0506 18:24:09.609484 140450983851840 tokenization_utils.py:504] loading file https://s3.amazonaws.com/models.huggingface.co/bert/microsoft/DialoGPT-medium/vocab.json from cache at /home/papan/.cache/torch/transformers/160770c7e6068191582afd6748b1f7e8395a4e6e63264fa390d534c6e25184b9.1512018be4ba4e8726e41b9145129dc30651ea4fec86aa61f4b9f40bf94eac71\n",
      "I0506 18:24:09.611539 140450983851840 tokenization_utils.py:504] loading file https://s3.amazonaws.com/models.huggingface.co/bert/microsoft/DialoGPT-medium/merges.txt from cache at /home/papan/.cache/torch/transformers/2768fc6cab7211630a47d239a3c467e01b5edcc650491f3777f181979ed61486.70bec105b4158ed9a1747fea67a43f5dee97855c64d62b6ec3742f4cfdb5feda\n",
      "I0506 18:24:09.615288 140450983851840 tokenization_utils.py:504] loading file https://s3.amazonaws.com/models.huggingface.co/bert/microsoft/DialoGPT-medium/added_tokens.json from cache at None\n",
      "I0506 18:24:09.617926 140450983851840 tokenization_utils.py:504] loading file https://s3.amazonaws.com/models.huggingface.co/bert/microsoft/DialoGPT-medium/special_tokens_map.json from cache at None\n",
      "I0506 18:24:09.619491 140450983851840 tokenization_utils.py:504] loading file https://s3.amazonaws.com/models.huggingface.co/bert/microsoft/DialoGPT-medium/tokenizer_config.json from cache at None\n",
      "I0506 18:24:14.167585 140450983851840 configuration_utils.py:283] loading configuration file https://s3.amazonaws.com/models.huggingface.co/bert/microsoft/DialoGPT-medium/config.json from cache at /home/papan/.cache/torch/transformers/8833f19dc2d2e7283d03d94f879e592e5512320f1a1f2c02f0365e8083441740.c20f698bdb1384093e40627d57f4734ba5817da9caee8857298ff9e78ac4f775\n",
      "I0506 18:24:14.169627 140450983851840 configuration_utils.py:319] Model config GPT2Config {\n",
      "  \"_num_labels\": 2,\n",
      "  \"activation_function\": \"gelu_new\",\n",
      "  \"architectures\": [\n",
      "    \"GPT2LMHeadModel\"\n",
      "  ],\n",
      "  \"attn_pdrop\": 0.1,\n",
      "  \"bad_words_ids\": null,\n",
      "  \"bos_token_id\": 50256,\n",
      "  \"decoder_start_token_id\": null,\n",
      "  \"do_sample\": false,\n",
      "  \"early_stopping\": false,\n",
      "  \"embd_pdrop\": 0.1,\n",
      "  \"eos_token_id\": 50256,\n",
      "  \"finetuning_task\": null,\n",
      "  \"id2label\": {\n",
      "    \"0\": \"LABEL_0\",\n",
      "    \"1\": \"LABEL_1\"\n",
      "  },\n",
      "  \"initializer_range\": 0.02,\n",
      "  \"is_decoder\": false,\n",
      "  \"is_encoder_decoder\": false,\n",
      "  \"label2id\": {\n",
      "    \"LABEL_0\": 0,\n",
      "    \"LABEL_1\": 1\n",
      "  },\n",
      "  \"layer_norm_epsilon\": 1e-05,\n",
      "  \"length_penalty\": 1.0,\n",
      "  \"max_length\": 20,\n",
      "  \"min_length\": 0,\n",
      "  \"model_type\": \"gpt2\",\n",
      "  \"n_ctx\": 1024,\n",
      "  \"n_embd\": 1024,\n",
      "  \"n_head\": 16,\n",
      "  \"n_layer\": 24,\n",
      "  \"n_positions\": 1024,\n",
      "  \"no_repeat_ngram_size\": 0,\n",
      "  \"num_beams\": 1,\n",
      "  \"num_return_sequences\": 1,\n",
      "  \"output_attentions\": false,\n",
      "  \"output_hidden_states\": false,\n",
      "  \"output_past\": true,\n",
      "  \"pad_token_id\": null,\n",
      "  \"prefix\": null,\n",
      "  \"pruned_heads\": {},\n",
      "  \"repetition_penalty\": 1.0,\n",
      "  \"resid_pdrop\": 0.1,\n",
      "  \"summary_activation\": null,\n",
      "  \"summary_first_dropout\": 0.1,\n",
      "  \"summary_proj_to_labels\": true,\n",
      "  \"summary_type\": \"cls_index\",\n",
      "  \"summary_use_proj\": true,\n",
      "  \"task_specific_params\": null,\n",
      "  \"temperature\": 1.0,\n",
      "  \"top_k\": 50,\n",
      "  \"top_p\": 1.0,\n",
      "  \"torchscript\": false,\n",
      "  \"use_bfloat16\": false,\n",
      "  \"vocab_size\": 50257\n",
      "}\n",
      "\n",
      "I0506 18:24:15.603931 140450983851840 filelock.py:274] Lock 140449465060488 acquired on /home/papan/.cache/torch/transformers/a4b7697711898c6e3eaa5c88599cc3a1fca9f05b8c28a83dd6731e4c98c96d30.d62bc4460f435335df940faeff855fa04937181751e23f4db6ef38919d948abc.lock\n",
      "I0506 18:24:15.608569 140450983851840 file_utils.py:479] https://s3.amazonaws.com/models.huggingface.co/bert/microsoft/DialoGPT-medium/pytorch_model.bin not found in cache or force_download set to True, downloading to /home/papan/.cache/torch/transformers/tmp0uho007y\n"
     ]
    },
    {
     "data": {
      "application/vnd.jupyter.widget-view+json": {
       "model_id": "85ae796fcd5f42f994cd2268757d8d41",
       "version_major": 2,
       "version_minor": 0
      },
      "text/plain": [
       "HBox(children=(FloatProgress(value=0.0, description='Downloading', max=862955157.0, style=ProgressStyle(descri…"
      ]
     },
     "metadata": {},
     "output_type": "display_data"
    },
    {
     "name": "stderr",
     "output_type": "stream",
     "text": [
      "I0506 18:49:40.852166 140450983851840 file_utils.py:489] storing https://s3.amazonaws.com/models.huggingface.co/bert/microsoft/DialoGPT-medium/pytorch_model.bin in cache at /home/papan/.cache/torch/transformers/a4b7697711898c6e3eaa5c88599cc3a1fca9f05b8c28a83dd6731e4c98c96d30.d62bc4460f435335df940faeff855fa04937181751e23f4db6ef38919d948abc\n",
      "I0506 18:49:40.856246 140450983851840 file_utils.py:492] creating metadata file for /home/papan/.cache/torch/transformers/a4b7697711898c6e3eaa5c88599cc3a1fca9f05b8c28a83dd6731e4c98c96d30.d62bc4460f435335df940faeff855fa04937181751e23f4db6ef38919d948abc\n",
      "I0506 18:49:40.858588 140450983851840 filelock.py:318] Lock 140449465060488 released on /home/papan/.cache/torch/transformers/a4b7697711898c6e3eaa5c88599cc3a1fca9f05b8c28a83dd6731e4c98c96d30.d62bc4460f435335df940faeff855fa04937181751e23f4db6ef38919d948abc.lock\n",
      "I0506 18:49:40.860321 140450983851840 modeling_utils.py:507] loading weights file https://s3.amazonaws.com/models.huggingface.co/bert/microsoft/DialoGPT-medium/pytorch_model.bin from cache at /home/papan/.cache/torch/transformers/a4b7697711898c6e3eaa5c88599cc3a1fca9f05b8c28a83dd6731e4c98c96d30.d62bc4460f435335df940faeff855fa04937181751e23f4db6ef38919d948abc\n"
     ]
    },
    {
     "name": "stdout",
     "output_type": "stream",
     "text": [
      "\n"
     ]
    }
   ],
   "source": [
    "tokenizer = AutoTokenizer.from_pretrained(\"microsoft/DialoGPT-medium\")\n",
    "model= AutoModelWithLMHead.from_pretrained(\"microsoft/DialoGPT-medium\")"
   ]
  },
  {
   "cell_type": "code",
   "execution_count": 3,
   "metadata": {},
   "outputs": [
    {
     "name": "stdout",
     "output_type": "stream",
     "text": [
      "Say something:hi\n",
      "Bot: Hey! :D\n",
      "Say something:How are you?\n",
      "Bot: I'm good, how are you?\n",
      "Say something:I'm good\n",
      "Bot: That's good!\n",
      "Say something:What can you do?\n",
      "Bot: I can do anything!\n",
      "Say something:Okay\n",
      "Bot: I'm so happy!\n"
     ]
    }
   ],
   "source": [
    "for step in range(5):\n",
    "  new_user_input_ids = tokenizer.encode(input(\"Say something:\") + tokenizer.eos_token, return_tensors='pt')\n",
    "  bot_input_ids = torch.cat([chat_history_ids, new_user_input_ids], dim=-1) if step > 0 else new_user_input_ids\n",
    "  chat_history_ids = model.generate(bot_input_ids, max_length=1000, pad_token_id=tokenizer.eos_token_id)\n",
    "  print(\"Bot: {}\".format(tokenizer.decode(chat_history_ids[:, bot_input_ids.shape[-1]:][0], skip_special_tokens=True)))\n"
   ]
  },
  {
   "cell_type": "code",
   "execution_count": null,
   "metadata": {},
   "outputs": [],
   "source": []
  }
 ],
 "metadata": {
  "kernelspec": {
   "display_name": "Python 3",
   "language": "python",
   "name": "python3"
  },
  "language_info": {
   "codemirror_mode": {
    "name": "ipython",
    "version": 3
   },
   "file_extension": ".py",
   "mimetype": "text/x-python",
   "name": "python",
   "nbconvert_exporter": "python",
   "pygments_lexer": "ipython3",
   "version": "3.7.3"
  }
 },
 "nbformat": 4,
 "nbformat_minor": 2
}
